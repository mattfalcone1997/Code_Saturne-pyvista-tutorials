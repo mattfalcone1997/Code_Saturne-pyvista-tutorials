{
 "cells": [
  {
   "cell_type": "markdown",
   "metadata": {},
   "source": [
    "# Computing turbulence kinetic energy from Code_Saturne time moments\n",
    "In this tutorial, we calculate the turbulence kinetic energy defined as\n",
    "$$k = \\frac{1}{2}\\left(\\overline{u'u'} + \\overline{v'v'} + \\overline{w'w'}\\right)$$\n",
    "The time moments in Code_Saturne are defined in the file  `data/src/cs_user_parameters.c` in function `cs_user_time_moments`. In this case, we have computed the mean square velocity $\\overline{u u}$ (variable 'UU_mean') and the mean velocity $\\bar{u}$ (Variable 'U_mean'). This can be used to calculate the variances using\n",
    "$$\\overline{u'u'} = \\overline{u u} - \\bar{u}\\bar{u}$$\n",
    "Below we compute and plot $k$.\n"
   ]
  },
  {
   "cell_type": "code",
   "execution_count": 1,
   "metadata": {},
   "outputs": [
    {
     "data": {
      "text/plain": [
       "pyvista DataSetAttributes\n",
       "Association     : CELL\n",
       "Active Scalars  : mpi_rank_id\n",
       "Active Vectors  : Velocity\n",
       "Active Texture  : None\n",
       "Active Normals  : None\n",
       "Contains arrays :\n",
       "    mpi_rank_id             float32    (3140920,)           SCALARS\n",
       "    Velocity                float32    (3140920, 3)         VECTORS\n",
       "    Pressure                float32    (3140920,)\n",
       "    TurbVisc                float32    (3140920,)\n",
       "    CourantNb               float32    (3140920,)\n",
       "    FourierNb               float32    (3140920,)\n",
       "    total_pressure          float32    (3140920,)\n",
       "    U_mean                  float32    (3140920, 3)\n",
       "    UU_mean                 float32    (3140920, 6)\n",
       "    P_mean                  float32    (3140920,)"
      ]
     },
     "execution_count": 1,
     "metadata": {},
     "output_type": "execute_result"
    }
   ],
   "source": [
    "# Load data in the same manner as reading_cs\n",
    "import pyvista as pv\n",
    "\n",
    "fn = 'case/postprocessing/RESULTS_FLUID_DOMAIN.case'\n",
    "\n",
    "reader = pv.get_reader(fn)\n",
    "reader.set_active_time_value(300)\n",
    "\n",
    "data = reader.read()['Fluid domain']\n",
    "\n",
    "data.cell_data\n"
   ]
  },
  {
   "cell_type": "code",
   "execution_count": 2,
   "metadata": {},
   "outputs": [],
   "source": [
    "# Get mean velocity data\n",
    "Vel_mean = data.cell_data['U_mean']\n",
    "\n",
    "# x component\n",
    "U_mean = Vel_mean[:,0]\n",
    "# y component\n",
    "V_mean = Vel_mean[:,1]\n",
    "# z component\n",
    "W_mean = Vel_mean[:,2]\n"
   ]
  },
  {
   "cell_type": "code",
   "execution_count": 3,
   "metadata": {},
   "outputs": [],
   "source": [
    "# Set symmetric tensor with $\\langle u u \\rangle$\n",
    "Vel2_tensor = data.cell_data['UU_mean']\n",
    "\n",
    "#Layout of symmetric tensor below\n",
    "# xx component\n",
    "UU_mean = Vel2_tensor[:,0]\n",
    "# yy component\n",
    "VV_mean = Vel2_tensor[:,1]\n",
    "# zz component\n",
    "WW_mean = Vel2_tensor[:,2]\n",
    "# xy component\n",
    "UV_mean = Vel2_tensor[:,3]\n",
    "# xz component\n",
    "UW_mean = Vel2_tensor[:,4]\n",
    "# yz component\n",
    "VW_mean = Vel2_tensor[:,5]\n"
   ]
  },
  {
   "cell_type": "code",
   "execution_count": 4,
   "metadata": {},
   "outputs": [
    {
     "data": {
      "text/plain": [
       "pyvista DataSetAttributes\n",
       "Association     : CELL\n",
       "Active Scalars  : mpi_rank_id\n",
       "Active Vectors  : Velocity\n",
       "Active Texture  : None\n",
       "Active Normals  : None\n",
       "Contains arrays :\n",
       "    mpi_rank_id             float32    (3140920,)           SCALARS\n",
       "    Velocity                float32    (3140920, 3)         VECTORS\n",
       "    Pressure                float32    (3140920,)\n",
       "    TurbVisc                float32    (3140920,)\n",
       "    CourantNb               float32    (3140920,)\n",
       "    FourierNb               float32    (3140920,)\n",
       "    total_pressure          float32    (3140920,)\n",
       "    U_mean                  float32    (3140920, 3)\n",
       "    UU_mean                 float32    (3140920, 6)\n",
       "    P_mean                  float32    (3140920,)\n",
       "    k                       float32    (3140920,)"
      ]
     },
     "execution_count": 4,
     "metadata": {},
     "output_type": "execute_result"
    }
   ],
   "source": [
    "# Compute variances\n",
    "uu = UU_mean - U_mean*U_mean\n",
    "\n",
    "vv = VV_mean - V_mean*V_mean\n",
    "\n",
    "ww = WW_mean - W_mean*W_mean\n",
    "\n",
    "# Compute k\n",
    "k= 0.5*(uu + vv + ww)\n",
    "\n",
    "# Reassign k to cell_data\n",
    "data.cell_data['k'] = k\n",
    "\n",
    "data.cell_data\n"
   ]
  },
  {
   "cell_type": "code",
   "execution_count": 5,
   "metadata": {},
   "outputs": [
    {
     "data": {
      "application/vnd.jupyter.widget-view+json": {
       "model_id": "65bbcf73cccb4000a402398fe1132bc5",
       "version_major": 2,
       "version_minor": 0
      },
      "text/plain": [
       "Widget(value='<iframe src=\"http://localhost:43159/index.html?ui=P_0x7b7d9c014e90_0&reconnect=auto\" class=\"pyvi…"
      ]
     },
     "metadata": {},
     "output_type": "display_data"
    }
   ],
   "source": [
    "# Plot k the same as reading_cs example\n",
    "p = pv.Plotter(window_size=(500,500))\n",
    "plane_slice = data.slice(origin=(0,0,0),\n",
    "                         normal='x')\n",
    "\n",
    "p.add_mesh(plane_slice,\n",
    "           cmap='bwr',\n",
    "           scalars='k')\n",
    "\n",
    "p.view_zy()\n",
    "p.add_axes()\n",
    "p.show()"
   ]
  },
  {
   "cell_type": "code",
   "execution_count": null,
   "metadata": {},
   "outputs": [],
   "source": []
  }
 ],
 "metadata": {
  "kernelspec": {
   "display_name": "Python 3 (ipykernel)",
   "language": "python",
   "name": "python3"
  },
  "language_info": {
   "codemirror_mode": {
    "name": "ipython",
    "version": 3
   },
   "file_extension": ".py",
   "mimetype": "text/x-python",
   "name": "python",
   "nbconvert_exporter": "python",
   "pygments_lexer": "ipython3",
   "version": "3.11.9"
  }
 },
 "nbformat": 4,
 "nbformat_minor": 4
}
