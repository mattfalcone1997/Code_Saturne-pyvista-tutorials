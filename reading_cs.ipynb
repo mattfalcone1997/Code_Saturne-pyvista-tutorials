{
 "cells": [
  {
   "cell_type": "markdown",
   "metadata": {},
   "source": [
    "# Reading Code_Saturne `.case` files using pyvista\n",
    "In this tutorial, Code_Saturne `.case` files which are typically processed in paraview are processed using pyvista. In this tutorial the dataset is extracted and then plotted."
   ]
  },
  {
   "cell_type": "code",
   "execution_count": 1,
   "metadata": {
    "editable": true,
    "slideshow": {
     "slide_type": ""
    },
    "tags": []
   },
   "outputs": [
    {
     "name": "stdout",
     "output_type": "stream",
     "text": [
      "EnSightReader('case/postprocessing/RESULTS_FLUID_DOMAIN.case')\n",
      "EnSightReader('case/postprocessing/RESULTS_FLUID_DOMAIN.case')\n"
     ]
    }
   ],
   "source": [
    "import pyvista as pv\n",
    "\n",
    "fn = 'case/postprocessing/RESULTS_FLUID_DOMAIN.case'\n",
    "\n",
    "reader1 = pv.get_reader(fn)\n",
    "reader2 = pv.EnSightReader(fn)\n",
    "\n",
    "print(reader1)\n",
    "print(reader2)"
   ]
  },
  {
   "cell_type": "code",
   "execution_count": 2,
   "metadata": {},
   "outputs": [
    {
     "data": {
      "text/plain": [
       "[25.0,\n",
       " 50.0,\n",
       " 75.0,\n",
       " 100.0,\n",
       " 125.0,\n",
       " 150.0,\n",
       " 175.0,\n",
       " 200.0,\n",
       " 225.0,\n",
       " 250.0,\n",
       " 275.0,\n",
       " 300.0]"
      ]
     },
     "execution_count": 2,
     "metadata": {},
     "output_type": "execute_result"
    }
   ],
   "source": [
    "reader1.time_values\n"
   ]
  },
  {
   "cell_type": "code",
   "execution_count": 3,
   "metadata": {},
   "outputs": [
    {
     "name": "stdout",
     "output_type": "stream",
     "text": [
      "MultiBlock (0x76cdfa9ffac0)\n",
      "  N Blocks    1\n",
      "  X Bounds    -1.000, 1.000\n",
      "  Y Bounds    -1.000, 1.000\n",
      "  Z Bounds    0.000, 20.000\n",
      "['Fluid domain']\n"
     ]
    }
   ],
   "source": [
    "reader1.set_active_time_value(300)\n",
    "data_blocks = reader1.read()\n",
    "\n",
    "print(data_blocks)\n",
    "print(data_blocks.keys())"
   ]
  },
  {
   "cell_type": "code",
   "execution_count": 4,
   "metadata": {},
   "outputs": [
    {
     "name": "stdout",
     "output_type": "stream",
     "text": [
      "UnstructuredGrid (0x76cdfa9ffc40)\n",
      "  N Cells:    3140920\n",
      "  N Points:   3172091\n",
      "  X Bounds:   -1.000e+00, 1.000e+00\n",
      "  Y Bounds:   -1.000e+00, 1.000e+00\n",
      "  Z Bounds:   0.000e+00, 2.000e+01\n",
      "  N Arrays:   10\n"
     ]
    }
   ],
   "source": [
    "data = data_blocks['Fluid domain']\n",
    "print(data)"
   ]
  },
  {
   "cell_type": "code",
   "execution_count": 5,
   "metadata": {},
   "outputs": [
    {
     "data": {
      "text/plain": [
       "pyvista DataSetAttributes\n",
       "Association     : CELL\n",
       "Active Scalars  : mpi_rank_id\n",
       "Active Vectors  : Velocity\n",
       "Active Texture  : None\n",
       "Active Normals  : None\n",
       "Contains arrays :\n",
       "    mpi_rank_id             float32    (3140920,)           SCALARS\n",
       "    Velocity                float32    (3140920, 3)         VECTORS\n",
       "    Pressure                float32    (3140920,)\n",
       "    TurbVisc                float32    (3140920,)\n",
       "    CourantNb               float32    (3140920,)\n",
       "    FourierNb               float32    (3140920,)\n",
       "    total_pressure          float32    (3140920,)\n",
       "    U_mean                  float32    (3140920, 3)\n",
       "    UU_mean                 float32    (3140920, 6)\n",
       "    P_mean                  float32    (3140920,)"
      ]
     },
     "execution_count": 5,
     "metadata": {},
     "output_type": "execute_result"
    }
   ],
   "source": [
    "data.cell_data"
   ]
  },
  {
   "cell_type": "code",
   "execution_count": 6,
   "metadata": {},
   "outputs": [
    {
     "data": {
      "text/plain": [
       "pyvista DataSetAttributes\n",
       "Association     : POINT\n",
       "Active Scalars  : mpi_rank_id\n",
       "Active Vectors  : Velocity\n",
       "Active Texture  : None\n",
       "Active Normals  : None\n",
       "Contains arrays :\n",
       "    mpi_rank_id             float32    (3172091,)           SCALARS\n",
       "    Velocity                float32    (3172091, 3)         VECTORS\n",
       "    Pressure                float32    (3172091,)\n",
       "    TurbVisc                float32    (3172091,)\n",
       "    CourantNb               float32    (3172091,)\n",
       "    FourierNb               float32    (3172091,)\n",
       "    total_pressure          float32    (3172091,)\n",
       "    U_mean                  float32    (3172091, 3)\n",
       "    UU_mean                 float32    (3172091, 6)\n",
       "    P_mean                  float32    (3172091,)"
      ]
     },
     "execution_count": 6,
     "metadata": {},
     "output_type": "execute_result"
    }
   ],
   "source": [
    "data = data.cell_data_to_point_data() # data.ctp()\n",
    "data.point_data"
   ]
  },
  {
   "cell_type": "code",
   "execution_count": 7,
   "metadata": {},
   "outputs": [
    {
     "data": {
      "application/vnd.jupyter.widget-view+json": {
       "model_id": "07df07cd48e84c668f1ee8ba557a0b90",
       "version_major": 2,
       "version_minor": 0
      },
      "text/plain": [
       "Widget(value='<iframe src=\"http://localhost:42493/index.html?ui=P_0x76cdfac42a10_0&reconnect=auto\" class=\"pyvi…"
      ]
     },
     "metadata": {},
     "output_type": "display_data"
    }
   ],
   "source": [
    "p = pv.Plotter(window_size=(500,500))\n",
    "\n",
    "p.add_mesh(data,\n",
    "           scalars='Velocity',\n",
    "           cmap='bwr')\n",
    "\n",
    "p.view_xy()\n",
    "p.add_axes()\n",
    "p.show()"
   ]
  },
  {
   "cell_type": "code",
   "execution_count": 8,
   "metadata": {
    "editable": true,
    "slideshow": {
     "slide_type": ""
    },
    "tags": []
   },
   "outputs": [
    {
     "data": {
      "application/vnd.jupyter.widget-view+json": {
       "model_id": "0ca05ac4478f4583902f5069df08d0c9",
       "version_major": 2,
       "version_minor": 0
      },
      "text/plain": [
       "Widget(value='<iframe src=\"http://localhost:42493/index.html?ui=P_0x76cdc1c82a90_1&reconnect=auto\" class=\"pyvi…"
      ]
     },
     "metadata": {},
     "output_type": "display_data"
    }
   ],
   "source": [
    "p = pv.Plotter(window_size=(500,500))\n",
    "plane_slice = data.slice(origin=(0,0,0),\n",
    "                         normal='x')\n",
    "\n",
    "p.add_mesh(plane_slice,\n",
    "           cmap='bwr',\n",
    "           scalars='Velocity')\n",
    "p.view_zy()\n",
    "p.add_axes()\n",
    "p.show()\n"
   ]
  },
  {
   "cell_type": "code",
   "execution_count": null,
   "metadata": {},
   "outputs": [],
   "source": []
  }
 ],
 "metadata": {
  "kernelspec": {
   "display_name": "Python 3 (ipykernel)",
   "language": "python",
   "name": "python3"
  },
  "language_info": {
   "codemirror_mode": {
    "name": "ipython",
    "version": 3
   },
   "file_extension": ".py",
   "mimetype": "text/x-python",
   "name": "python",
   "nbconvert_exporter": "python",
   "pygments_lexer": "ipython3",
   "version": "3.11.9"
  }
 },
 "nbformat": 4,
 "nbformat_minor": 4
}
