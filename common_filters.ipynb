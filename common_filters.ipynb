{
 "cells": [
  {
   "cell_type": "markdown",
   "metadata": {},
   "source": [
    "# Common filters\n",
    " \n",
    "Uses filters that are commonly used in Paraview such as gradient calculations and also uses the raw data and the Numpy package to compute the $\\lambda_2$ vortex identification criterion which is given by where the second largest eigenvalue of the matrix \n",
    "$$S_{ik}S_{kj} + \\Omega_{ik}\\Omega_{kj}$$\n",
    "is negative where \n",
    "\n",
    "$$S_{ij} = \\frac{1}{2}\\left(\\frac{\\partial u_{i}}{\\partial x_j} + \\frac{\\partial u_{j}}{\\partial x_i}\\right)$$\n",
    "$$\\Omega_{ij} = \\frac{1}{2}\\left(\\frac{\\partial u_{i}}{\\partial x_j} - \\frac{\\partial u_{j}}{\\partial x_i}\\right)$$\n",
    "\n"
   ]
  },
  {
   "cell_type": "code",
   "execution_count": 1,
   "metadata": {
    "editable": true,
    "slideshow": {
     "slide_type": ""
    },
    "tags": []
   },
   "outputs": [
    {
     "name": "stdout",
     "output_type": "stream",
     "text": [
      "UnstructuredGrid (0x76a3d1fb3880)\n",
      "  N Cells:    3140920\n",
      "  N Points:   3172091\n",
      "  X Bounds:   -1.000e+00, 1.000e+00\n",
      "  Y Bounds:   -1.000e+00, 1.000e+00\n",
      "  Z Bounds:   0.000e+00, 2.000e+01\n",
      "  N Arrays:   10\n"
     ]
    }
   ],
   "source": [
    "import pyvista as pv\n",
    "import numpy as np\n",
    "fn = 'case/postprocessing/RESULTS_FLUID_DOMAIN.case'\n",
    "\n",
    "reader = pv.get_reader(fn)\n",
    "reader.set_active_time_value(300)\n",
    "\n",
    "data = reader.read()['Fluid domain']\n",
    "\n",
    "print(data)"
   ]
  },
  {
   "cell_type": "code",
   "execution_count": 2,
   "metadata": {},
   "outputs": [
    {
     "name": "stdout",
     "output_type": "stream",
     "text": [
      "pyvista DataSetAttributes\n",
      "Association     : CELL\n",
      "Active Scalars  : mpi_rank_id\n",
      "Active Vectors  : Velocity\n",
      "Active Texture  : None\n",
      "Active Normals  : None\n",
      "Contains arrays :\n",
      "    mpi_rank_id             float32    (3140920,)           SCALARS\n",
      "    Velocity                float32    (3140920, 3)         VECTORS\n",
      "    Pressure                float32    (3140920,)\n",
      "    TurbVisc                float32    (3140920,)\n",
      "    CourantNb               float32    (3140920,)\n",
      "    FourierNb               float32    (3140920,)\n",
      "    total_pressure          float32    (3140920,)\n",
      "    U_mean                  float32    (3140920, 3)\n",
      "    UU_mean                 float32    (3140920, 6)\n",
      "    P_mean                  float32    (3140920,)\n",
      "    Q                       float32    (3140920,)\n"
     ]
    }
   ],
   "source": [
    "# Q criterion\n",
    "# Can use qcriterion=True or qcriterion='key', which results in a data set of that name\n",
    "Q = data.compute_derivative('Velocity',qcriterion='Q', gradient=False)\n",
    "print(Q.cell_data)"
   ]
  },
  {
   "cell_type": "code",
   "execution_count": 3,
   "metadata": {},
   "outputs": [],
   "source": [
    "# Contour like the contour filter in paraview with Q as the selected scalar\n",
    "Q_contour = Q.ctp().contour([0.5],\n",
    "                      scalars='Q')"
   ]
  },
  {
   "cell_type": "code",
   "execution_count": 4,
   "metadata": {},
   "outputs": [
    {
     "data": {
      "application/vnd.jupyter.widget-view+json": {
       "model_id": "1f995d2ba94547b1b3507dce35f50855",
       "version_major": 2,
       "version_minor": 0
      },
      "text/plain": [
       "Widget(value='<iframe src=\"http://localhost:40771/index.html?ui=P_0x76a3d1fdf610_0&reconnect=auto\" class=\"pyvi…"
      ]
     },
     "metadata": {},
     "output_type": "display_data"
    }
   ],
   "source": [
    "# Plot isosurface of Q\n",
    "p = pv.Plotter(window_size=(500,500))\n",
    "\n",
    "p.add_mesh(Q_contour,\n",
    "           scalars='Velocity',\n",
    "           cmap='bwr')\n",
    "\n",
    "p.add_axes()\n",
    "\n",
    "# set camera\n",
    "p.view_xy(negative=True)\n",
    "# change azimuth and elevation of the camera\n",
    "p.camera.azimuth = 30\n",
    "p.camera.elevation = 30\n",
    "p.show()"
   ]
  },
  {
   "cell_type": "code",
   "execution_count": 5,
   "metadata": {},
   "outputs": [
    {
     "name": "stdout",
     "output_type": "stream",
     "text": [
      "pyvista DataSetAttributes\n",
      "Association     : CELL\n",
      "Active Scalars  : mpi_rank_id\n",
      "Active Vectors  : Velocity\n",
      "Active Texture  : None\n",
      "Active Normals  : None\n",
      "Contains arrays :\n",
      "    mpi_rank_id             float32    (3140920,)           SCALARS\n",
      "    Velocity                float32    (3140920, 3)         VECTORS\n",
      "    Pressure                float32    (3140920,)\n",
      "    TurbVisc                float32    (3140920,)\n",
      "    CourantNb               float32    (3140920,)\n",
      "    FourierNb               float32    (3140920,)\n",
      "    total_pressure          float32    (3140920,)\n",
      "    U_mean                  float32    (3140920, 3)\n",
      "    UU_mean                 float32    (3140920, 6)\n",
      "    P_mean                  float32    (3140920,)\n",
      "    dudx                    float32    (3140920, 9)\n"
     ]
    }
   ],
   "source": [
    "# We now compute lambda_2 from the gradient calculation\n",
    "\n",
    "dudx_data = data.compute_derivative('Velocity',gradient='dudx')\n",
    "# dudx is of size (n_cell, 9) as we should expect\n",
    "print(dudx_data.cell_data)"
   ]
  },
  {
   "cell_type": "code",
   "execution_count": 6,
   "metadata": {},
   "outputs": [],
   "source": [
    "# Reshape data so last dimensions are a 3X3 matrix\n",
    "dudx = dudx_data.cell_data['dudx'].reshape((dudx_data.n_cells ,3,3))\n",
    "\n",
    "# transpose last two dimentions of dudx\n",
    "dudxT = np.transpose(dudx,axes=(0,2,1))\n",
    "\n",
    "# compute strain rate tensor and rotation rate tensor\n",
    "S = 0.5*(dudx + dudxT)\n",
    "Omega = 0.5*(dudx - dudxT)"
   ]
  },
  {
   "cell_type": "code",
   "execution_count": 7,
   "metadata": {},
   "outputs": [],
   "source": [
    "#Compute $S_{ik}S_{kj} + \\Omega_{ik}S_{kj}$\n",
    "S2O2 = np.matmul(S,S) + np.matmul(Omega,Omega)\n",
    "\n",
    "# Compute eigenvalues of symmetric matrix leaving unused eigenvectors blank\n",
    "eig, _ = np.linalg.eigh(S2O2)\n",
    "\n",
    "# Get second largest value\n",
    "lambda2 = eig[:,1]\n",
    "\n",
    "# Reassign lambda_2 to cell_data\n",
    "dudx_data.cell_data['lambda_2'] = lambda2"
   ]
  },
  {
   "cell_type": "code",
   "execution_count": 8,
   "metadata": {},
   "outputs": [
    {
     "data": {
      "application/vnd.jupyter.widget-view+json": {
       "model_id": "c12db417793a47099db6825ffac57e62",
       "version_major": 2,
       "version_minor": 0
      },
      "text/plain": [
       "Widget(value='<iframe src=\"http://localhost:40771/index.html?ui=P_0x76a3a6f3bf90_1&reconnect=auto\" class=\"pyvi…"
      ]
     },
     "metadata": {},
     "output_type": "display_data"
    }
   ],
   "source": [
    "# Plot contour the same manner as Q\n",
    "lambda2_contour = dudx_data.ctp().contour([-0.4],\n",
    "                                    scalars='lambda_2')\n",
    "\n",
    "p = pv.Plotter(window_size=(500,500))\n",
    "\n",
    "p.add_mesh(lambda2_contour,\n",
    "           scalars='Velocity',\n",
    "           cmap='bwr')\n",
    "\n",
    "p.add_axes()\n",
    "p.view_xy(negative=True)\n",
    "p.camera.azimuth = 30\n",
    "p.camera.elevation = 30\n",
    "p.show()\n"
   ]
  }
 ],
 "metadata": {
  "kernelspec": {
   "display_name": "Python 3 (ipykernel)",
   "language": "python",
   "name": "python3"
  },
  "language_info": {
   "codemirror_mode": {
    "name": "ipython",
    "version": 3
   },
   "file_extension": ".py",
   "mimetype": "text/x-python",
   "name": "python",
   "nbconvert_exporter": "python",
   "pygments_lexer": "ipython3",
   "version": "3.11.9"
  }
 },
 "nbformat": 4,
 "nbformat_minor": 4
}
