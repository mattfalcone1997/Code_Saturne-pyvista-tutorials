{
 "cells": [
  {
   "cell_type": "markdown",
   "metadata": {},
   "source": [
    "# Common filters\n",
    " \n",
    "Uses filters that are commonly used in Paraview such as gradient calculations and also uses the raw data and the Numpy package to compute the $\\lambda_2$ vortex identification criterion which is given by where the second largest eigenvalue of the matrix \n",
    "$$S_{ik}S_{kj} + \\Omega_{ik}\\Omega_{kj}$$\n",
    "is negative where \n",
    "\n",
    "$$S_{ij} = \\frac{1}{2}\\left(\\frac{\\partial u_{i}}{\\partial x_j} + \\frac{\\partial u_{j}}{\\partial x_i}\\right)$$\n",
    "$$\\Omega_{ij} = \\frac{1}{2}\\left(\\frac{\\partial u_{i}}{\\partial x_j} - \\frac{\\partial u_{j}}{\\partial x_i}\\right)$$\n",
    "\n"
   ]
  },
  {
   "cell_type": "code",
   "execution_count": 1,
   "metadata": {
    "editable": true,
    "slideshow": {
     "slide_type": ""
    },
    "tags": []
   },
   "outputs": [
    {
     "name": "stdout",
     "output_type": "stream",
     "text": [
      "UnstructuredGrid (0x75275657b880)\n",
      "  N Cells:    3140920\n",
      "  N Points:   3172091\n",
      "  X Bounds:   -1.000e+00, 1.000e+00\n",
      "  Y Bounds:   -1.000e+00, 1.000e+00\n",
      "  Z Bounds:   0.000e+00, 2.000e+01\n",
      "  N Arrays:   10\n"
     ]
    }
   ],
   "source": [
    "import pyvista as pv\n",
    "import numpy as np\n",
    "fn = 'postprocessing/RESULTS_FLUID_DOMAIN.case'\n",
    "\n",
    "reader = pv.get_reader(fn)\n",
    "reader.set_active_time_value(300)\n",
    "\n",
    "data = reader.read()['Fluid domain']\n",
    "\n",
    "print(data)"
   ]
  },
  {
   "cell_type": "code",
   "execution_count": 2,
   "metadata": {},
   "outputs": [
    {
     "name": "stdout",
     "output_type": "stream",
     "text": [
      "pyvista DataSetAttributes\n",
      "Association     : CELL\n",
      "Active Scalars  : mpi_rank_id\n",
      "Active Vectors  : Velocity\n",
      "Active Texture  : None\n",
      "Active Normals  : None\n",
      "Contains arrays :\n",
      "    mpi_rank_id             float32    (3140920,)           SCALARS\n",
      "    Velocity                float32    (3140920, 3)         VECTORS\n",
      "    Pressure                float32    (3140920,)\n",
      "    TurbVisc                float32    (3140920,)\n",
      "    CourantNb               float32    (3140920,)\n",
      "    FourierNb               float32    (3140920,)\n",
      "    total_pressure          float32    (3140920,)\n",
      "    U_mean                  float32    (3140920, 3)\n",
      "    UU_mean                 float32    (3140920, 6)\n",
      "    P_mean                  float32    (3140920,)\n",
      "    Q                       float32    (3140920,)\n"
     ]
    }
   ],
   "source": [
    "# Q criterion\n",
    "\n",
    "Q = data.compute_derivative('Velocity',qcriterion='Q', gradient=False)\n",
    "print(Q.cell_data)"
   ]
  },
  {
   "cell_type": "code",
   "execution_count": 3,
   "metadata": {},
   "outputs": [],
   "source": [
    "Q_contour = Q.ctp().contour([0.5],\n",
    "                      scalars='Q')"
   ]
  },
  {
   "cell_type": "code",
   "execution_count": 4,
   "metadata": {},
   "outputs": [
    {
     "data": {
      "application/vnd.jupyter.widget-view+json": {
       "model_id": "93cde634b4944ab0bf19f5b469181fab",
       "version_major": 2,
       "version_minor": 0
      },
      "text/plain": [
       "Widget(value='<iframe src=\"http://localhost:42373/index.html?ui=P_0x7527566906d0_0&reconnect=auto\" class=\"pyvi…"
      ]
     },
     "metadata": {},
     "output_type": "display_data"
    }
   ],
   "source": [
    "p = pv.Plotter(window_size=(500,500))\n",
    "\n",
    "p.add_mesh(Q_contour,\n",
    "           scalars='Velocity',\n",
    "           cmap='bwr')\n",
    "\n",
    "p.add_axes()\n",
    "p.view_xy(negative=True)\n",
    "p.camera.azimuth = 30\n",
    "p.camera.elevation = 30\n",
    "p.show()"
   ]
  },
  {
   "cell_type": "code",
   "execution_count": 5,
   "metadata": {},
   "outputs": [
    {
     "name": "stdout",
     "output_type": "stream",
     "text": [
      "pyvista DataSetAttributes\n",
      "Association     : CELL\n",
      "Active Scalars  : mpi_rank_id\n",
      "Active Vectors  : Velocity\n",
      "Active Texture  : None\n",
      "Active Normals  : None\n",
      "Contains arrays :\n",
      "    mpi_rank_id             float32    (3140920,)           SCALARS\n",
      "    Velocity                float32    (3140920, 3)         VECTORS\n",
      "    Pressure                float32    (3140920,)\n",
      "    TurbVisc                float32    (3140920,)\n",
      "    CourantNb               float32    (3140920,)\n",
      "    FourierNb               float32    (3140920,)\n",
      "    total_pressure          float32    (3140920,)\n",
      "    U_mean                  float32    (3140920, 3)\n",
      "    UU_mean                 float32    (3140920, 6)\n",
      "    P_mean                  float32    (3140920,)\n",
      "    dudx                    float32    (3140920, 9)\n"
     ]
    }
   ],
   "source": [
    "# lambda2\n",
    "\n",
    "dudx_data = data.compute_derivative('Velocity',gradient='dudx')\n",
    "print(dudx_data.cell_data)"
   ]
  },
  {
   "cell_type": "code",
   "execution_count": 6,
   "metadata": {},
   "outputs": [],
   "source": [
    "dudx = dudx_data.cell_data['dudx'].reshape((dudx_data.n_cells ,3,3))\n",
    "\n",
    "dudxT = np.transpose(dudx,axes=(0,2,1))\n",
    "S = 0.5*(dudx + dudxT)\n",
    "Omega = 0.5*(dudx - dudxT)"
   ]
  },
  {
   "cell_type": "code",
   "execution_count": 7,
   "metadata": {},
   "outputs": [],
   "source": [
    "S2O2 = np.matmul(S,S) + np.matmul(Omega,Omega)\n",
    "\n",
    "eig, _ = np.linalg.eigh(S2O2)\n",
    "\n",
    "lambda2 = eig[:,1]\n",
    "\n",
    "dudx_data.cell_data['lambda_2'] = lambda2"
   ]
  },
  {
   "cell_type": "code",
   "execution_count": 8,
   "metadata": {},
   "outputs": [
    {
     "data": {
      "application/vnd.jupyter.widget-view+json": {
       "model_id": "0183bcd82b324da8960d5c9ba81cd955",
       "version_major": 2,
       "version_minor": 0
      },
      "text/plain": [
       "Widget(value='<iframe src=\"http://localhost:42373/index.html?ui=P_0x752743c0c550_1&reconnect=auto\" class=\"pyvi…"
      ]
     },
     "metadata": {},
     "output_type": "display_data"
    }
   ],
   "source": [
    "\n",
    "lambda2_contour = dudx_data.ctp().contour([-0.4],\n",
    "                                    scalars='lambda_2')\n",
    "\n",
    "p = pv.Plotter(window_size=(500,500))\n",
    "\n",
    "p.add_mesh(lambda2_contour,\n",
    "           scalars='Velocity',\n",
    "           cmap='bwr')\n",
    "\n",
    "p.add_axes()\n",
    "p.view_xy(negative=True)\n",
    "p.camera.azimuth = 30\n",
    "p.camera.elevation = 30\n",
    "p.show()\n"
   ]
  }
 ],
 "metadata": {
  "kernelspec": {
   "display_name": "Python 3 (ipykernel)",
   "language": "python",
   "name": "python3"
  },
  "language_info": {
   "codemirror_mode": {
    "name": "ipython",
    "version": 3
   },
   "file_extension": ".py",
   "mimetype": "text/x-python",
   "name": "python",
   "nbconvert_exporter": "python",
   "pygments_lexer": "ipython3",
   "version": "3.11.9"
  }
 },
 "nbformat": 4,
 "nbformat_minor": 4
}
