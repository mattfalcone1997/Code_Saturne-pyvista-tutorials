{
 "cells": [
  {
   "cell_type": "markdown",
   "metadata": {},
   "source": [
    "# Tangential average of pipe flow data\n",
    "In this tutorial, we compute the tangential average of the unstructured pipe flow data. The original data is in Cartesian coordinates, $(x, y, z)$. Here, we average in the circumferential direction and interpolate onto a structured $r-z$ grid."
   ]
  },
  {
   "cell_type": "code",
   "execution_count": 1,
   "metadata": {},
   "outputs": [],
   "source": [
    "# Read data same manner as reading_cs\n",
    "\n",
    "import pyvista as pv\n",
    "import numpy as np\n",
    "fn = 'case/postprocessing/RESULTS_FLUID_DOMAIN.case'\n",
    "\n",
    "reader = pv.get_reader(fn)\n",
    "reader.set_active_time_value(300)\n",
    "\n",
    "data = reader.read()['Fluid domain']"
   ]
  },
  {
   "cell_type": "code",
   "execution_count": 2,
   "metadata": {},
   "outputs": [],
   "source": [
    "# Cell cell center coordinates\n",
    "x, y, z = data.cell_centers().points.T\n"
   ]
  },
  {
   "cell_type": "code",
   "execution_count": 3,
   "metadata": {},
   "outputs": [],
   "source": [
    "# Compute radius \n",
    "r = np.sqrt(x*x + y*y)\n",
    "\n",
    "coords = np.stack([r,np.zeros(data.n_cells),z],axis=1)\n",
    "\n",
    "#Create poly data point cloud with associated cell arrays\n",
    "plane = pv.PolyData(coords)\n",
    "for name in data.cell_data.keys():\n",
    "    plane.point_data[name] = data.cell_data[name]"
   ]
  },
  {
   "cell_type": "code",
   "execution_count": 7,
   "metadata": {},
   "outputs": [
    {
     "data": {
      "application/vnd.jupyter.widget-view+json": {
       "model_id": "0ecc31feba0744a787b441e1e409100e",
       "version_major": 2,
       "version_minor": 0
      },
      "text/plain": [
       "Widget(value='<iframe src=\"http://localhost:33849/index.html?ui=P_0x733e6c385190_2&reconnect=auto\" class=\"pyvi…"
      ]
     },
     "metadata": {},
     "output_type": "display_data"
    }
   ],
   "source": [
    "# Plot point cloud (zoom to see the points)\n",
    "p = pv.Plotter(window_size=(500,500))\n",
    "\n",
    "p.add_mesh(plane.points)\n",
    "\n",
    "p.view_zx()\n",
    "p.show()"
   ]
  },
  {
   "cell_type": "code",
   "execution_count": 5,
   "metadata": {},
   "outputs": [
    {
     "data": {
      "text/plain": [
       "pyvista DataSetAttributes\n",
       "Association     : POINT\n",
       "Active Scalars  : mpi_rank_id\n",
       "Active Vectors  : None\n",
       "Active Texture  : None\n",
       "Active Normals  : None\n",
       "Contains arrays :\n",
       "    mpi_rank_id             float32    (20301,)             SCALARS\n",
       "    Velocity                float32    (20301, 3)\n",
       "    Pressure                float32    (20301,)\n",
       "    TurbVisc                float32    (20301,)\n",
       "    CourantNb               float32    (20301,)\n",
       "    FourierNb               float32    (20301,)\n",
       "    total_pressure          float32    (20301,)\n",
       "    U_mean                  float32    (20301, 3)\n",
       "    UU_mean                 float32    (20301, 6)\n",
       "    P_mean                  float32    (20301,)"
      ]
     },
     "execution_count": 5,
     "metadata": {},
     "output_type": "execute_result"
    }
   ],
   "source": [
    "# Create structured r-z grid\n",
    "\n",
    "zmin = data.bounds[4]\n",
    "zmax = data.bounds[5]\n",
    "z= np.linspace(zmin, zmax, 201)\n",
    "\n",
    "# using CHAPSim's stretching function to skew mesh towards wall\n",
    "X2= np.linspace(0, 1, 101)\n",
    "STR = 1.4\n",
    "r = np.tanh(X2*STR)/np.tanh(STR)\n",
    "\n",
    "R, Z = np.meshgrid(r, z, indexing='ij')\n",
    "\n",
    "# Create vtkStructured Grid\n",
    "s = pv.StructuredGrid(R, np.zeros_like(R),Z)\n",
    "\n",
    "# Interpolate point cloud onto structured grid\n",
    "s = s.interpolate(plane, radius=0.05, strategy='closest_point')\n",
    "\n",
    "s.point_data\n",
    "\n",
    "# We could also use functions from the scipy.interpolate module \n",
    "# Bypassing the StructuredGrid altogether"
   ]
  },
  {
   "cell_type": "code",
   "execution_count": 6,
   "metadata": {},
   "outputs": [
    {
     "data": {
      "application/vnd.jupyter.widget-view+json": {
       "model_id": "381cc4f4fbf549028945a7d7a9a36cbb",
       "version_major": 2,
       "version_minor": 0
      },
      "text/plain": [
       "Widget(value='<iframe src=\"http://localhost:33849/index.html?ui=P_0x733e6c312390_1&reconnect=auto\" class=\"pyvi…"
      ]
     },
     "metadata": {},
     "output_type": "display_data"
    }
   ],
   "source": [
    "# Plot both original data and circumferentially averaged data\n",
    "p = pv.Plotter()\n",
    "p.add_mesh(s,\n",
    "           scalars='U_mean',\n",
    "           cmap='bwr')\n",
    "\n",
    "p.add_mesh(data.slice(normal='y',origin=(0,0,0)).translate([-1.2,0,0]),\n",
    "           scalars='U_mean',\n",
    "           cmap='bwr')\n",
    "\n",
    "p.view_zx()\n",
    "p.show()"
   ]
  }
 ],
 "metadata": {
  "kernelspec": {
   "display_name": "Python 3 (ipykernel)",
   "language": "python",
   "name": "python3"
  },
  "language_info": {
   "codemirror_mode": {
    "name": "ipython",
    "version": 3
   },
   "file_extension": ".py",
   "mimetype": "text/x-python",
   "name": "python",
   "nbconvert_exporter": "python",
   "pygments_lexer": "ipython3",
   "version": "3.11.9"
  }
 },
 "nbformat": 4,
 "nbformat_minor": 4
}
